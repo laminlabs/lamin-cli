{
  "cells": [
    {
      "cell_type": "markdown",
      "metadata": {},
      "source": [
        "# My test notebook (non-consecutive)"
      ]
    },
    {
      "cell_type": "code",
      "execution_count": 1,
      "metadata": {},
      "outputs": [
        {
          "name": "stdout",
          "output_type": "stream",
          "text": [
            "💡 lamindb instance: falexwolf/testdb\n"
          ]
        }
      ],
      "source": [
        "import lamindb as ln"
      ]
    },
    {
      "cell_type": "code",
      "execution_count": 3,
      "metadata": {},
      "outputs": [
        {
          "name": "stdout",
          "output_type": "stream",
          "text": [
            "non-consecutive cell here\n"
          ]
        }
      ],
      "source": [
        "print(\"non-consecutive cell here\")"
      ]
    },
    {
      "cell_type": "code",
      "execution_count": 2,
      "metadata": {},
      "outputs": [
        {
          "ename": "SystemExit",
          "evalue": "To track this notebook, set the following two global variables:\n\nln.settings.transform.stem_uid = \"HDMGkxN9rgFA\"\nln.settings.transform.version = \"0\"\n",
          "output_type": "error",
          "traceback": [
            "An exception has occurred, use %tb to see the full traceback.\n",
            "\u001b[0;31mSystemExit\u001b[0m\u001b[0;31m:\u001b[0m To track this notebook, set the following two global variables:\n\nln.settings.transform.stem_uid = \"HDMGkxN9rgFA\"\nln.settings.transform.version = \"0\"\n\n"
          ]
        },
        {
          "name": "stderr",
          "output_type": "stream",
          "text": [
            "/Users/falexwolf/miniconda3/envs/py310/lib/python3.10/site-packages/IPython/core/interactiveshell.py:3534: UserWarning: To exit: use 'exit', 'quit', or Ctrl-D.\n",
            "  warn(\"To exit: use 'exit', 'quit', or Ctrl-D.\", stacklevel=1)\n"
          ]
        }
      ],
      "source": [
        "ln.connect(\"lamindb-unit-tests\")\n",
        "ln.settings.transform.stem_uid = \"HDMGkxN9rgFA\"\n",
        "ln.settings.transform.version = \"1\"\n",
        "ln.track()"
      ]
    }
  ],
  "metadata": {
    "kernelspec": {
      "display_name": "py39",
      "language": "python",
      "name": "python3"
    },
    "language_info": {
      "codemirror_mode": {
        "name": "ipython",
        "version": 3
      },
      "file_extension": ".py",
      "mimetype": "text/x-python",
      "name": "python",
      "nbconvert_exporter": "python",
      "pygments_lexer": "ipython3",
      "version": "3.10.13"
    },
    "orig_nbformat": 4
  },
  "nbformat": 4,
  "nbformat_minor": 2
}
