{
 "cells": [
  {
   "cell_type": "markdown",
   "id": "c4ea5bc1",
   "metadata": {},
   "source": [
    "# My test notebook (consecutive)"
   ]
  },
  {
   "cell_type": "code",
   "execution_count": null,
   "id": "3ac1c25a",
   "metadata": {},
   "outputs": [],
   "source": [
    "import lamindb as ln"
   ]
  },
  {
   "cell_type": "code",
   "execution_count": null,
   "id": "44bfcdec",
   "metadata": {},
   "outputs": [],
   "source": [
    "# pass full uid, will be updated to stem uid during tests\n",
    "ln.track(\"hlsFXswrJjtt0000\")"
   ]
  },
  {
   "cell_type": "code",
   "execution_count": null,
   "id": "c2c32e5a",
   "metadata": {},
   "outputs": [],
   "source": [
    "print(\"my consecutive cell\")"
   ]
  }
 ],
 "metadata": {
  "jupytext": {
   "cell_metadata_filter": "-all",
   "main_language": "python",
   "notebook_metadata_filter": "-all"
  },
  "language_info": {
   "name": "python"
  }
 },
 "nbformat": 4,
 "nbformat_minor": 5
}
