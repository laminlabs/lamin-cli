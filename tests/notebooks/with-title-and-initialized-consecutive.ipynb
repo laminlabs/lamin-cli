{
 "cells": [
  {
   "cell_type": "markdown",
   "metadata": {},
   "source": [
    "# My test notebook (consecutive)"
   ]
  },
  {
   "cell_type": "code",
   "execution_count": 1,
   "metadata": {
    "execution": {
     "iopub.execute_input": "2024-04-30T02:45:28.590279Z",
     "iopub.status.busy": "2024-04-30T02:45:28.590128Z",
     "iopub.status.idle": "2024-04-30T02:45:29.921019Z",
     "shell.execute_reply": "2024-04-30T02:45:29.920739Z"
    }
   },
   "outputs": [
    {
     "name": "stdout",
     "output_type": "stream",
     "text": [
      "💡 connected lamindb: testuser1/laminci-unit-tests\n"
     ]
    }
   ],
   "source": [
    "import lamindb as ln"
   ]
  },
  {
   "cell_type": "code",
   "execution_count": 2,
   "metadata": {
    "execution": {
     "iopub.execute_input": "2024-04-30T02:45:29.923093Z",
     "iopub.status.busy": "2024-04-30T02:45:29.922808Z",
     "iopub.status.idle": "2024-04-30T02:45:32.189053Z",
     "shell.execute_reply": "2024-04-30T02:45:32.188627Z"
    }
   },
   "outputs": [
    {
     "name": "stdout",
     "output_type": "stream",
     "text": [
      "💡 notebook imports: lamindb==0.71.0\n"
     ]
    },
    {
     "name": "stdout",
     "output_type": "stream",
     "text": [
      "💡 saved: Transform(uid='hlsFXswrJjtt5zKv', name='My test notebook (consecutive)', key='with-title-and-initialized-consecutive', version='1', type='notebook', updated_at=2024-04-30 02:45:31 UTC, created_by_id=1)\n"
     ]
    },
    {
     "name": "stdout",
     "output_type": "stream",
     "text": [
      "💡 saved: Run(uid='oX11QZyYk6dhucek9jNg', transform_id=1, created_by_id=1)\n"
     ]
    }
   ],
   "source": [
    "ln.track(\"hlsFXswrJjtt0000\")"
   ]
  },
  {
   "cell_type": "code",
   "execution_count": 3,
   "metadata": {
    "execution": {
     "iopub.execute_input": "2024-04-30T02:45:32.191144Z",
     "iopub.status.busy": "2024-04-30T02:45:32.191016Z",
     "iopub.status.idle": "2024-04-30T02:45:32.193262Z",
     "shell.execute_reply": "2024-04-30T02:45:32.192907Z"
    }
   },
   "outputs": [
    {
     "name": "stdout",
     "output_type": "stream",
     "text": [
      "my consecutive cell\n"
     ]
    }
   ],
   "source": [
    "print(\"my consecutive cell\")"
   ]
  }
 ],
 "metadata": {
  "kernelspec": {
   "display_name": "py39",
   "language": "python",
   "name": "python3"
  },
  "language_info": {
   "codemirror_mode": {
    "name": "ipython",
    "version": 3
   },
   "file_extension": ".py",
   "mimetype": "text/x-python",
   "name": "python",
   "nbconvert_exporter": "python",
   "pygments_lexer": "ipython3",
   "version": "3.10.13"
  },
  "widgets": {
   "application/vnd.jupyter.widget-state+json": {
    "state": {
     "31729cb39d074e8fb483120775f53731": {
      "model_module": "ipylab",
      "model_module_version": "^1.0.0",
      "model_name": "SessionManagerModel",
      "state": {
       "_model_module": "ipylab",
       "_model_module_version": "^1.0.0",
       "_model_name": "SessionManagerModel",
       "_view_count": null,
       "_view_module": null,
       "_view_module_version": "",
       "_view_name": null,
       "current_session": {},
       "sessions": []
      }
     },
     "6939d8a17fbb46b8877f987b20b56757": {
      "model_module": "ipylab",
      "model_module_version": "^1.0.0",
      "model_name": "CommandRegistryModel",
      "state": {
       "_command_list": [],
       "_commands": [],
       "_model_module": "ipylab",
       "_model_module_version": "^1.0.0",
       "_model_name": "CommandRegistryModel",
       "_view_count": null,
       "_view_module": null,
       "_view_module_version": "",
       "_view_name": null
      }
     },
     "82c3ccb5d1114b968e80e1605d528742": {
      "model_module": "ipylab",
      "model_module_version": "^1.0.0",
      "model_name": "JupyterFrontEndModel",
      "state": {
       "_model_module": "ipylab",
       "_model_module_version": "^1.0.0",
       "_model_name": "JupyterFrontEndModel",
       "_view_count": null,
       "_view_module": null,
       "_view_module_version": "",
       "_view_name": null,
       "commands": "IPY_MODEL_6939d8a17fbb46b8877f987b20b56757",
       "sessions": "IPY_MODEL_31729cb39d074e8fb483120775f53731",
       "shell": "IPY_MODEL_9f239e52e3794df9b2c06052072cad24",
       "version": ""
      }
     },
     "9f239e52e3794df9b2c06052072cad24": {
      "model_module": "ipylab",
      "model_module_version": "^1.0.0",
      "model_name": "ShellModel",
      "state": {
       "_model_module": "ipylab",
       "_model_module_version": "^1.0.0",
       "_model_name": "ShellModel",
       "_view_count": null,
       "_view_module": null,
       "_view_module_version": "",
       "_view_name": null,
       "_widgets": []
      }
     }
    },
    "version_major": 2,
    "version_minor": 0
   }
  }
 },
 "nbformat": 4,
 "nbformat_minor": 2
}
