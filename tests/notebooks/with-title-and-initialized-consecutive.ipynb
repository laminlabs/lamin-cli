{
 "cells": [
  {
   "cell_type": "markdown",
   "metadata": {},
   "source": [
    "# My test notebook (consecutive)"
   ]
  },
  {
   "cell_type": "code",
   "execution_count": null,
   "metadata": {
    "execution": {
     "iopub.execute_input": "2025-04-30T07:13:25.716776Z",
     "iopub.status.busy": "2025-04-30T07:13:25.716381Z",
     "iopub.status.idle": "2025-04-30T07:13:27.453096Z",
     "shell.execute_reply": "2025-04-30T07:13:27.452799Z"
    }
   },
   "outputs": [],
   "source": [
    "import lamindb as ln"
   ]
  },
  {
   "cell_type": "code",
   "execution_count": null,
   "metadata": {
    "execution": {
     "iopub.execute_input": "2025-04-30T07:13:27.454570Z",
     "iopub.status.busy": "2025-04-30T07:13:27.454392Z",
     "iopub.status.idle": "2025-04-30T07:13:29.009995Z",
     "shell.execute_reply": "2025-04-30T07:13:29.009714Z"
    }
   },
   "outputs": [],
   "source": [
    "# pass full uid, will be updated to stem uid during tests\n",
    "ln.track(\"hlsFXswrJjtt0000\")"
   ]
  },
  {
   "cell_type": "code",
   "execution_count": null,
   "metadata": {
    "execution": {
     "iopub.execute_input": "2025-04-30T07:13:29.011700Z",
     "iopub.status.busy": "2025-04-30T07:13:29.011197Z",
     "iopub.status.idle": "2025-04-30T07:13:29.013515Z",
     "shell.execute_reply": "2025-04-30T07:13:29.013241Z"
    }
   },
   "outputs": [],
   "source": [
    "print(\"my consecutive cell\")"
   ]
  }
 ],
 "metadata": {
  "kernelspec": {
   "display_name": "py39",
   "language": "python",
   "name": "python3"
  },
  "language_info": {
   "codemirror_mode": {
    "name": "ipython",
    "version": 3
   },
   "file_extension": ".py",
   "mimetype": "text/x-python",
   "name": "python",
   "nbconvert_exporter": "python",
   "pygments_lexer": "ipython3",
   "version": "3.12.8"
  },
  "widgets": {
   "application/vnd.jupyter.widget-state+json": {
    "state": {
     "0cd6a4b024b64296a2c053d9d03a809a": {
      "model_module": "ipylab",
      "model_module_version": "^1.0.0",
      "model_name": "ShellModel",
      "state": {
       "_model_module": "ipylab",
       "_model_module_version": "^1.0.0",
       "_model_name": "ShellModel",
       "_view_count": null,
       "_view_module": null,
       "_view_module_version": "",
       "_view_name": null,
       "_widgets": []
      }
     },
     "4212be1aef3e48b5abe9bb625df2c06d": {
      "model_module": "ipylab",
      "model_module_version": "^1.0.0",
      "model_name": "SessionManagerModel",
      "state": {
       "_model_module": "ipylab",
       "_model_module_version": "^1.0.0",
       "_model_name": "SessionManagerModel",
       "_view_count": null,
       "_view_module": null,
       "_view_module_version": "",
       "_view_name": null,
       "current_session": {},
       "sessions": []
      }
     },
     "b50af86969144e9fa4d162a9400ea38d": {
      "model_module": "ipylab",
      "model_module_version": "^1.0.0",
      "model_name": "CommandRegistryModel",
      "state": {
       "_command_list": [],
       "_commands": [],
       "_model_module": "ipylab",
       "_model_module_version": "^1.0.0",
       "_model_name": "CommandRegistryModel",
       "_view_count": null,
       "_view_module": null,
       "_view_module_version": "",
       "_view_name": null
      }
     },
     "c05f4f88f9164f1ab665023dfa7637b3": {
      "model_module": "ipylab",
      "model_module_version": "^1.0.0",
      "model_name": "JupyterFrontEndModel",
      "state": {
       "_model_module": "ipylab",
       "_model_module_version": "^1.0.0",
       "_model_name": "JupyterFrontEndModel",
       "_view_count": null,
       "_view_module": null,
       "_view_module_version": "",
       "_view_name": null,
       "commands": "IPY_MODEL_b50af86969144e9fa4d162a9400ea38d",
       "sessions": "IPY_MODEL_4212be1aef3e48b5abe9bb625df2c06d",
       "shell": "IPY_MODEL_0cd6a4b024b64296a2c053d9d03a809a",
       "version": ""
      }
     }
    },
    "version_major": 2,
    "version_minor": 0
   }
  }
 },
 "nbformat": 4,
 "nbformat_minor": 2
}
