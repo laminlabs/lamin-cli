{
  "cells": [
    {
      "cell_type": "markdown",
      "metadata": {},
      "source": [
        "# My test notebook (consecutive)"
      ]
    },
    {
      "cell_type": "code",
      "execution_count": 1,
      "metadata": {
        "execution": {
          "iopub.execute_input": "2024-02-28T10:26:34.123001Z",
          "iopub.status.busy": "2024-02-28T10:26:34.122692Z",
          "iopub.status.idle": "2024-02-28T10:26:35.334278Z",
          "shell.execute_reply": "2024-02-28T10:26:35.333942Z"
        }
      },
      "outputs": [
        {
          "name": "stdout",
          "output_type": "stream",
          "text": [
            "💡 lamindb instance: falexwolf/lamindb-setup-notebook-tests\n"
          ]
        }
      ],
      "source": [
        "import lamindb as ln"
      ]
    },
    {
      "cell_type": "code",
      "execution_count": 2,
      "metadata": {
        "execution": {
          "iopub.execute_input": "2024-02-28T10:26:35.351854Z",
          "iopub.status.busy": "2024-02-28T10:26:35.351500Z",
          "iopub.status.idle": "2024-02-28T10:26:37.516724Z",
          "shell.execute_reply": "2024-02-28T10:26:37.516289Z"
        }
      },
      "outputs": [
        {
          "name": "stdout",
          "output_type": "stream",
          "text": [
            "💡 notebook imports: lamindb==0.67.3\n"
          ]
        },
        {
          "name": "stdout",
          "output_type": "stream",
          "text": [
            "💡 saved: Transform(uid='hlsFXswrJjtt5zKv', name='My test notebook (consecutive)', short_name='with-title-and-initialized-consecutive', version='1', type=notebook, updated_at=2024-02-28 10:26:36 UTC, created_by_id=1)\n"
          ]
        },
        {
          "name": "stdout",
          "output_type": "stream",
          "text": [
            "💡 saved: Run(uid='FyKeQx6bw3o1okN4khF7', run_at=2024-02-28 10:26:36 UTC, transform_id=1, created_by_id=1)\n"
          ]
        }
      ],
      "source": [
        "ln.connect(\"lamindb-setup-notebook-tests\")\n",
        "ln.transform.stem_uid = \"hlsFXswrJjtt\"\n",
        "ln.transform.version = \"1\"\n",
        "ln.track()"
      ]
    },
    {
      "cell_type": "code",
      "execution_count": 3,
      "metadata": {
        "execution": {
          "iopub.execute_input": "2024-02-28T10:26:37.518448Z",
          "iopub.status.busy": "2024-02-28T10:26:37.518331Z",
          "iopub.status.idle": "2024-02-28T10:26:37.520409Z",
          "shell.execute_reply": "2024-02-28T10:26:37.520130Z"
        }
      },
      "outputs": [
        {
          "name": "stdout",
          "output_type": "stream",
          "text": [
            "my consecutive cell\n"
          ]
        }
      ],
      "source": [
        "print(\"my consecutive cell\")"
      ]
    },
    {
      "cell_type": "code",
      "execution_count": 4,
      "metadata": {
        "execution": {
          "iopub.execute_input": "2024-02-28T10:26:37.518448Z",
          "iopub.status.busy": "2024-02-28T10:26:37.518331Z",
          "iopub.status.idle": "2024-02-28T10:26:37.520409Z",
          "shell.execute_reply": "2024-02-28T10:26:37.520130Z"
        }
      },
      "outputs": [
        {
          "name": "stdout",
          "output_type": "stream",
          "text": [
            "my consecutive cell\n"
          ]
        }
      ],
      "source": [
        "print(\"my consecutive cell\")"
      ]
    }
  ],
  "metadata": {
    "kernelspec": {
      "display_name": "py39",
      "language": "python",
      "name": "python3"
    },
    "language_info": {
      "codemirror_mode": {
        "name": "ipython",
        "version": 3
      },
      "file_extension": ".py",
      "mimetype": "text/x-python",
      "name": "python",
      "nbconvert_exporter": "python",
      "pygments_lexer": "ipython3",
      "version": "3.10.13"
    },
    "widgets": {
      "application/vnd.jupyter.widget-state+json": {
        "state": {
          "444383c3d65b4d12a4f133df8dc72a9f": {
            "model_module": "ipylab",
            "model_module_version": "^1.0.0",
            "model_name": "ShellModel",
            "state": {
              "_model_module": "ipylab",
              "_model_module_version": "^1.0.0",
              "_model_name": "ShellModel",
              "_view_count": null,
              "_view_module": null,
              "_view_module_version": "",
              "_view_name": null,
              "_widgets": []
            }
          },
          "b782fd14699442f5af38bfdaefae8b43": {
            "model_module": "ipylab",
            "model_module_version": "^1.0.0",
            "model_name": "SessionManagerModel",
            "state": {
              "_model_module": "ipylab",
              "_model_module_version": "^1.0.0",
              "_model_name": "SessionManagerModel",
              "_view_count": null,
              "_view_module": null,
              "_view_module_version": "",
              "_view_name": null,
              "current_session": {},
              "sessions": []
            }
          },
          "c5cf1ccc24ea4a49a6f6a8350c2cea24": {
            "model_module": "ipylab",
            "model_module_version": "^1.0.0",
            "model_name": "CommandRegistryModel",
            "state": {
              "_command_list": [],
              "_commands": [],
              "_model_module": "ipylab",
              "_model_module_version": "^1.0.0",
              "_model_name": "CommandRegistryModel",
              "_view_count": null,
              "_view_module": null,
              "_view_module_version": "",
              "_view_name": null
            }
          },
          "c63b8662332149d7a748445640768bf8": {
            "model_module": "ipylab",
            "model_module_version": "^1.0.0",
            "model_name": "JupyterFrontEndModel",
            "state": {
              "_model_module": "ipylab",
              "_model_module_version": "^1.0.0",
              "_model_name": "JupyterFrontEndModel",
              "_view_count": null,
              "_view_module": null,
              "_view_module_version": "",
              "_view_name": null,
              "commands": "IPY_MODEL_c5cf1ccc24ea4a49a6f6a8350c2cea24",
              "sessions": "IPY_MODEL_b782fd14699442f5af38bfdaefae8b43",
              "shell": "IPY_MODEL_444383c3d65b4d12a4f133df8dc72a9f",
              "version": ""
            }
          }
        },
        "version_major": 2,
        "version_minor": 0
      }
    }
  },
  "nbformat": 4,
  "nbformat_minor": 2
}
